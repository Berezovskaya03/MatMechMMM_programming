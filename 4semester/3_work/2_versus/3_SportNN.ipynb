{
 "cells":[
  {
   "cell_type":"code",
   "source":[
    "import pandas as pd\n",
    "df = pd.read_csv('LaLiga_sort.csv').replace({\"Result\":  {\"D\":0,\"H\":1, \"A\":-1}})\n",
    "data = df.iloc[:, 8:-1]\n",
    "data['id'] = df['id'].values\n",
    "data['result'] = df['Result'].values\n",
    "data = data.dropna()\n",
    "X = data.iloc[:, :-1]\n",
    "y = data.iloc[:, -1]\n",
    "data.head()"
   ],
   "execution_count":49,
   "outputs":[
    {
     "data":{
      "text\/html":[
       "<div>\n",
       "<style scoped>\n",
       "    .dataframe tbody tr th:only-of-type {\n",
       "        vertical-align: middle;\n",
       "    }\n",
       "\n",
       "    .dataframe tbody tr th {\n",
       "        vertical-align: top;\n",
       "    }\n",
       "\n",
       "    .dataframe thead th {\n",
       "        text-align: right;\n",
       "    }\n",
       "<\/style>\n",
       "<table border=\"1\" class=\"dataframe\">\n",
       "  <thead>\n",
       "    <tr style=\"text-align: right;\">\n",
       "      <th><\/th>\n",
       "      <th>home_team_goal<\/th>\n",
       "      <th>away_team_goal<\/th>\n",
       "      <th>B365H<\/th>\n",
       "      <th>B365D<\/th>\n",
       "      <th>B365A<\/th>\n",
       "      <th>home_y_card<\/th>\n",
       "      <th>home_r_card<\/th>\n",
       "      <th>away_y_card<\/th>\n",
       "      <th>away_r_card<\/th>\n",
       "      <th>home_shoton<\/th>\n",
       "      <th>...<\/th>\n",
       "      <th>home_cross<\/th>\n",
       "      <th>away_cross<\/th>\n",
       "      <th>home_corner<\/th>\n",
       "      <th>away_corner<\/th>\n",
       "      <th>home_possession<\/th>\n",
       "      <th>away_possession<\/th>\n",
       "      <th>HTP<\/th>\n",
       "      <th>ATP<\/th>\n",
       "      <th>id<\/th>\n",
       "      <th>result<\/th>\n",
       "    <\/tr>\n",
       "  <\/thead>\n",
       "  <tbody>\n",
       "    <tr>\n",
       "      <th>0<\/th>\n",
       "      <td>1<\/td>\n",
       "      <td>0<\/td>\n",
       "      <td>2.00<\/td>\n",
       "      <td>3.3<\/td>\n",
       "      <td>3.80<\/td>\n",
       "      <td>4<\/td>\n",
       "      <td>0<\/td>\n",
       "      <td>4<\/td>\n",
       "      <td>0<\/td>\n",
       "      <td>3<\/td>\n",
       "      <td>...<\/td>\n",
       "      <td>9<\/td>\n",
       "      <td>18<\/td>\n",
       "      <td>1<\/td>\n",
       "      <td>9<\/td>\n",
       "      <td>46<\/td>\n",
       "      <td>54<\/td>\n",
       "      <td>0<\/td>\n",
       "      <td>0<\/td>\n",
       "      <td>21525<\/td>\n",
       "      <td>1<\/td>\n",
       "    <\/tr>\n",
       "    <tr>\n",
       "      <th>1<\/th>\n",
       "      <td>3<\/td>\n",
       "      <td>0<\/td>\n",
       "      <td>1.70<\/td>\n",
       "      <td>3.6<\/td>\n",
       "      <td>5.25<\/td>\n",
       "      <td>4<\/td>\n",
       "      <td>0<\/td>\n",
       "      <td>0<\/td>\n",
       "      <td>0<\/td>\n",
       "      <td>5<\/td>\n",
       "      <td>...<\/td>\n",
       "      <td>15<\/td>\n",
       "      <td>9<\/td>\n",
       "      <td>5<\/td>\n",
       "      <td>6<\/td>\n",
       "      <td>52<\/td>\n",
       "      <td>48<\/td>\n",
       "      <td>0<\/td>\n",
       "      <td>0<\/td>\n",
       "      <td>21518<\/td>\n",
       "      <td>1<\/td>\n",
       "    <\/tr>\n",
       "    <tr>\n",
       "      <th>2<\/th>\n",
       "      <td>1<\/td>\n",
       "      <td>3<\/td>\n",
       "      <td>2.00<\/td>\n",
       "      <td>3.3<\/td>\n",
       "      <td>3.80<\/td>\n",
       "      <td>2<\/td>\n",
       "      <td>0<\/td>\n",
       "      <td>2<\/td>\n",
       "      <td>0<\/td>\n",
       "      <td>0<\/td>\n",
       "      <td>...<\/td>\n",
       "      <td>0<\/td>\n",
       "      <td>0<\/td>\n",
       "      <td>0<\/td>\n",
       "      <td>0<\/td>\n",
       "      <td>46<\/td>\n",
       "      <td>54<\/td>\n",
       "      <td>0<\/td>\n",
       "      <td>0<\/td>\n",
       "      <td>21526<\/td>\n",
       "      <td>-1<\/td>\n",
       "    <\/tr>\n",
       "    <tr>\n",
       "      <th>3<\/th>\n",
       "      <td>4<\/td>\n",
       "      <td>0<\/td>\n",
       "      <td>1.44<\/td>\n",
       "      <td>4.2<\/td>\n",
       "      <td>7.50<\/td>\n",
       "      <td>1<\/td>\n",
       "      <td>0<\/td>\n",
       "      <td>1<\/td>\n",
       "      <td>0<\/td>\n",
       "      <td>0<\/td>\n",
       "      <td>...<\/td>\n",
       "      <td>0<\/td>\n",
       "      <td>0<\/td>\n",
       "      <td>0<\/td>\n",
       "      <td>0<\/td>\n",
       "      <td>46<\/td>\n",
       "      <td>54<\/td>\n",
       "      <td>0<\/td>\n",
       "      <td>0<\/td>\n",
       "      <td>21527<\/td>\n",
       "      <td>1<\/td>\n",
       "    <\/tr>\n",
       "    <tr>\n",
       "      <th>4<\/th>\n",
       "      <td>1<\/td>\n",
       "      <td>1<\/td>\n",
       "      <td>2.80<\/td>\n",
       "      <td>3.3<\/td>\n",
       "      <td>2.50<\/td>\n",
       "      <td>2<\/td>\n",
       "      <td>1<\/td>\n",
       "      <td>1<\/td>\n",
       "      <td>1<\/td>\n",
       "      <td>0<\/td>\n",
       "      <td>...<\/td>\n",
       "      <td>0<\/td>\n",
       "      <td>0<\/td>\n",
       "      <td>0<\/td>\n",
       "      <td>0<\/td>\n",
       "      <td>52<\/td>\n",
       "      <td>48<\/td>\n",
       "      <td>0<\/td>\n",
       "      <td>0<\/td>\n",
       "      <td>21519<\/td>\n",
       "      <td>0<\/td>\n",
       "    <\/tr>\n",
       "  <\/tbody>\n",
       "<\/table>\n",
       "<p>5 rows × 25 columns<\/p>\n",
       "<\/div>"
      ]
     },
     "metadata":{
      
     },
     "output_type":"display_data"
    }
   ],
   "metadata":{
    "datalore":{
     "node_id":"GEMKE8SapEhUPxtml0vGV7",
     "type":"CODE",
     "hide_input_from_viewers":true,
     "hide_output_from_viewers":true
    }
   }
  },
  {
   "cell_type":"code",
   "source":[
    "from sklearn.model_selection import train_test_split\n",
    "X_train, X_test, y_train, y_test = train_test_split(X, y, test_size=0.20)\n",
    "y_test[:5]"
   ],
   "execution_count":50,
   "outputs":[
    {
     "data":{
      "text\/html":[
       
      ]
     },
     "metadata":{
      
     },
     "output_type":"display_data"
    }
   ],
   "metadata":{
    "datalore":{
     "node_id":"3pT3oZXowZuSnDGVyzcaqm",
     "type":"CODE",
     "hide_input_from_viewers":true,
     "hide_output_from_viewers":true
    }
   }
  },
  {
   "cell_type":"code",
   "source":[
    "from sklearn.linear_model import LinearRegression\n",
    "model = LinearRegression() # однослойная нейронная сеть\n",
    "model.fit(X_train.values.tolist(), y_train.values)\n",
    "y_predict = model.predict(X_test.values.tolist())"
   ],
   "execution_count":37,
   "outputs":[
    
   ],
   "metadata":{
    "datalore":{
     "node_id":"owtIU9I7o28ggwbUGeZNtm",
     "type":"CODE",
     "hide_input_from_viewers":true,
     "hide_output_from_viewers":true
    }
   }
  },
  {
   "cell_type":"code",
   "source":[
    "y_result = []\n",
    "for y in y_predict:\n",
    "    if y >= 0.5:\n",
    "        y_result.append(1)\n",
    "    elif -0.5 < y < 0.5:\n",
    "        y_result.append(0)\n",
    "    else:\n",
    "        y_result.append(-1)\n",
    "y_result[:5]"
   ],
   "execution_count":46,
   "outputs":[
    {
     "data":{
      "text\/plain":[
       "[1, 1, -1, 0, 1]"
      ]
     },
     "metadata":{
      
     },
     "output_type":"display_data"
    }
   ],
   "metadata":{
    "datalore":{
     "node_id":"6Bf33dPO2bWowHkTeDvnAo",
     "type":"CODE",
     "hide_input_from_viewers":true,
     "hide_output_from_viewers":true
    }
   }
  },
  {
   "cell_type":"code",
   "source":[
    "success_1 = 0\n",
    "comparison_df = pd.DataFrame(data={'actual': y_test, 'predicted': y_result})\n",
    "for index, row in comparison_df.iterrows():\n",
    "  if row['actual'] == row['predicted']:\n",
    "    success_1 += 1\n",
    "print(f'{success_1} успехов из {len(y_test)}')"
   ],
   "execution_count":45,
   "outputs":[
    {
     "name":"stdout",
     "text":[
      "414 успехов из 608\n"
     ],
     "output_type":"stream"
    }
   ],
   "metadata":{
    "datalore":{
     "node_id":"dvOtvpiuDzxB4EdEF9kqlF",
     "type":"CODE",
     "hide_input_from_viewers":true,
     "hide_output_from_viewers":true
    }
   }
  }
 ],
 "metadata":{
  "kernelspec":{
   "display_name":"Python",
   "language":"python",
   "name":"python"
  },
  "datalore":{
   "version":1,
   "computation_mode":"JUPYTER",
   "package_manager":"pip",
   "base_environment":"default",
   "packages":[
    
   ]
  }
 },
 "nbformat":4,
 "nbformat_minor":4
}