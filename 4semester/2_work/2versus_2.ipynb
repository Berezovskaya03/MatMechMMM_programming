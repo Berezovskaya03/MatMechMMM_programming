{
  "nbformat": 4,
  "nbformat_minor": 0,
  "metadata": {
    "colab": {
      "provenance": []
    },
    "kernelspec": {
      "name": "python3",
      "display_name": "Python 3"
    },
    "language_info": {
      "name": "python"
    }
  },
  "cells": [
    {
      "cell_type": "code",
      "execution_count": 135,
      "metadata": {
        "id": "E6fGAP3VdmI5"
      },
      "outputs": [],
      "source": [
        "import pandas as pd\n",
        "import numpy as np \n",
        "from matplotlib import pyplot as plt\n",
        "from sklearn.cluster import KMeans"
      ]
    },
    {
      "cell_type": "code",
      "source": [
        "df = pd.read_csv(\"master.csv\")\n",
        "df.info()"
      ],
      "metadata": {
        "colab": {
          "base_uri": "https://localhost:8080/"
        },
        "id": "IRo_OrmDgv0L",
        "outputId": "541780dc-f4cc-403e-83b2-d5854e8bfbe2"
      },
      "execution_count": 136,
      "outputs": [
        {
          "output_type": "stream",
          "name": "stdout",
          "text": [
            "<class 'pandas.core.frame.DataFrame'>\n",
            "RangeIndex: 27820 entries, 0 to 27819\n",
            "Data columns (total 12 columns):\n",
            " #   Column              Non-Null Count  Dtype  \n",
            "---  ------              --------------  -----  \n",
            " 0   country             27820 non-null  object \n",
            " 1   year                27820 non-null  int64  \n",
            " 2   sex                 27820 non-null  object \n",
            " 3   age                 27820 non-null  object \n",
            " 4   suicides_no         27820 non-null  int64  \n",
            " 5   population          27820 non-null  int64  \n",
            " 6   suicides/100k pop   27820 non-null  float64\n",
            " 7   country-year        27820 non-null  object \n",
            " 8   HDI for year        8364 non-null   float64\n",
            " 9    gdp_for_year ($)   27820 non-null  object \n",
            " 10  gdp_per_capita ($)  27820 non-null  int64  \n",
            " 11  generation          27820 non-null  object \n",
            "dtypes: float64(2), int64(4), object(6)\n",
            "memory usage: 2.5+ MB\n"
          ]
        }
      ]
    },
    {
      "cell_type": "markdown",
      "source": [
        "Выбираем по каким столбцам кластеризуем"
      ],
      "metadata": {
        "id": "K-w_fbOTcKDH"
      }
    },
    {
      "cell_type": "code",
      "source": [
        "columns=['suicides_no', 'gdp_per_capita ($)']"
      ],
      "metadata": {
        "id": "KWp8hmGhbgfY"
      },
      "execution_count": 137,
      "outputs": []
    },
    {
      "cell_type": "code",
      "source": [
        "from sklearn import preprocessing\n",
        "dfN = preprocessing.MinMaxScaler().fit_transform(df[columns].values)"
      ],
      "metadata": {
        "id": "DdBQTP1XcYka"
      },
      "execution_count": 138,
      "outputs": []
    },
    {
      "cell_type": "code",
      "metadata": {
        "id": "cjEfU6ZSMAPl"
      },
      "source": [
        "n_clusters = 3\n",
        "kmeans = KMeans(n_clusters, init = 'k-means++')\n",
        "y_kmeans = kmeans.fit_predict(dfN)"
      ],
      "execution_count": 139,
      "outputs": []
    },
    {
      "cell_type": "code",
      "source": [
        "plt.scatter(dfN[y_kmeans == 0, 0], dfN[y_kmeans == 0, 1], s = 10, c = 'pink')\n",
        "plt.scatter(dfN[y_kmeans == 1, 0], dfN[y_kmeans == 1, 1], s = 10, c = 'blue')\n",
        "plt.scatter(dfN[y_kmeans == 2, 0], dfN[y_kmeans == 2, 1], s = 10, c = 'purple')\n",
        "plt.scatter(kmeans.cluster_centers_[:, 0], kmeans.cluster_centers_[:, 1], s = 30, c = 'red')\n",
        "plt.xlabel('suicides_no')\n",
        "plt.ylabel('gdp_per_capita ($)')\n",
        "plt.show()"
      ],
      "metadata": {
        "colab": {
          "base_uri": "https://localhost:8080/",
          "height": 280
        },
        "id": "-rVmQq9Ase9O",
        "outputId": "ce850bd4-4ac6-4f70-dab6-ce41c45b7a76"
      },
      "execution_count": 140,
      "outputs": [
        {
          "output_type": "display_data",
          "data": {
            "text/plain": [
              "<Figure size 432x288 with 1 Axes>"
            ],
            "image/png": "[encoded data removed]"
          },
          "metadata": {
            "needs_background": "light"
          }
        }
      ]
    }
  ]
}